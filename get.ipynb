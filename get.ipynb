{
 "cells": [
  {
   "cell_type": "code",
   "execution_count": 90,
   "metadata": {},
   "outputs": [],
   "source": [
    "import requests\n",
    "import pandas as pd"
   ]
  },
  {
   "cell_type": "code",
   "execution_count": 91,
   "metadata": {},
   "outputs": [],
   "source": [
    "test_cases = pd.read_csv('data_parts/test_cases.csv')"
   ]
  },
  {
   "cell_type": "code",
   "execution_count": 92,
   "metadata": {},
   "outputs": [
    {
     "data": {
      "text/plain": [
       "Дата подачи                                      04.08.2023 22:03:19\n",
       "Дата обновления                                  04.08.2023 22:03:20\n",
       "Примечание         Продается Прекрасная, Уютная и Комфортная для ...\n",
       "Тип квартиры                                           Однокомнатная\n",
       "Район                                              Орджоникидзевский\n",
       "Адрес                                                         Жукова\n",
       "Дом                                                               33\n",
       "Этаж                                                             1/9\n",
       "Планировка                                                улучшенная\n",
       "о                                                              32.20\n",
       "ж                                                              17.00\n",
       "к                                                               8.00\n",
       "цена (т.р.)                                                   2400.0\n",
       "Телефон                                              8-906-898-59-09\n",
       "Имя                                                Сергиенко Рузалия\n",
       "E-mail                                                           NaN\n",
       "Просмотров                                                         1\n",
       "url                    http://citystar.ru/scard.asp?d=43&id=15762754\n",
       "Name: 1566, dtype: object"
      ]
     },
     "execution_count": 92,
     "metadata": {},
     "output_type": "execute_result"
    }
   ],
   "source": [
    "test_case_1 = test_cases.iloc[-1]\n",
    "test_case_1"
   ]
  },
  {
   "cell_type": "code",
   "execution_count": 93,
   "metadata": {},
   "outputs": [
    {
     "data": {
      "text/plain": [
       "Дата подачи                                      04.08.2023 18:50:45\n",
       "Дата обновления                                  04.08.2023 18:51:51\n",
       "Примечание         Продам трехкомнатную квартиру улучшенной плани...\n",
       "Тип квартиры                                           Трехкомнатная\n",
       "Район                                              Орджоникидзевский\n",
       "Адрес                                              50-летия Магнитки\n",
       "Дом                                                             62/1\n",
       "Этаж                                                             8/9\n",
       "Планировка                                                улучшенная\n",
       "о                                                              65.00\n",
       "ж                                                              42.00\n",
       "к                                                               9.00\n",
       "цена (т.р.)                                                   4050.0\n",
       "Телефон                                                 +79512347007\n",
       "Имя                                                           Сергей\n",
       "E-mail                                                           NaN\n",
       "Просмотров                                                        27\n",
       "url                    http://citystar.ru/scard.asp?d=43&id=15762753\n",
       "Name: 1565, dtype: object"
      ]
     },
     "execution_count": 93,
     "metadata": {},
     "output_type": "execute_result"
    }
   ],
   "source": [
    "test_case_2 = test_cases.iloc[-2]\n",
    "test_case_2"
   ]
  },
  {
   "cell_type": "code",
   "execution_count": 94,
   "metadata": {},
   "outputs": [
    {
     "data": {
      "text/plain": [
       "Дата подачи                                       16.07.2023 0:22:38\n",
       "Дата обновления                                  25.07.2023 22:06:53\n",
       "Примечание         Продам 3х квартиру в центре левого берега. С р...\n",
       "Тип квартиры                                           Трехкомнатная\n",
       "Район                                Орджоникидзевский (левый берег)\n",
       "Адрес                                                    Маяковского\n",
       "Дом                                                               38\n",
       "Этаж                                                             2/3\n",
       "Планировка                                                       NaN\n",
       "о                                                              42.00\n",
       "ж                                                              40.00\n",
       "к                                                               5.00\n",
       "цена (т.р.)                                                   2050.0\n",
       "Телефон                                                  89823137318\n",
       "Имя                                                            Елена\n",
       "E-mail                                                           NaN\n",
       "Просмотров                                                         1\n",
       "url                    http://citystar.ru/scard.asp?d=43&id=15624695\n",
       "Name: 1563, dtype: object"
      ]
     },
     "execution_count": 94,
     "metadata": {},
     "output_type": "execute_result"
    }
   ],
   "source": [
    "test_case_3 = test_cases.iloc[-4]\n",
    "test_case_3"
   ]
  },
  {
   "cell_type": "code",
   "execution_count": 97,
   "metadata": {},
   "outputs": [
    {
     "name": "stdout",
     "output_type": "stream",
     "text": [
      "Предсказанные цена: 1980.4416882336752\n",
      "Реальная цена: 2050.0\n"
     ]
    }
   ],
   "source": [
    "# Входные данные для предсказания\n",
    "# Тестовые варианты test_case_1, test_case_2, test_case_3 - просто меняем номер тестовой переменной test_case_1 -> test_case_2\n",
    "# python projects_DS_DA\\realty_mag_belka\\script.py\n",
    "\n",
    "test_case = test_case_3\n",
    "\n",
    "\n",
    "data = test_case.drop(['цена (т.р.)']).to_json(force_ascii=False)\n",
    "real_price = test_case['цена (т.р.)']\n",
    "\n",
    "# URL сервера Flask\n",
    "url = 'http://localhost:5000/predict'\n",
    "\n",
    "# Отправка GET-запроса с данными в формате JSON\n",
    "response = requests.get(url, json=data)\n",
    "\n",
    "# Проверка статуса запроса\n",
    "if response.status_code == 200:\n",
    "    # Если запрос успешен, получаем результаты предсказания\n",
    "    result = response.json()\n",
    "    print('Предсказанные цена:', *result['predictions'])\n",
    "    print('Реальная цена:', real_price)\n",
    "else:\n",
    "    # Если запрос не успешен, выводим сообщение об ошибке\n",
    "    print('Ошибка:', response.status_code)\n"
   ]
  }
 ],
 "metadata": {
  "kernelspec": {
   "display_name": "belka_env",
   "language": "python",
   "name": "python3"
  },
  "language_info": {
   "codemirror_mode": {
    "name": "ipython",
    "version": 3
   },
   "file_extension": ".py",
   "mimetype": "text/x-python",
   "name": "python",
   "nbconvert_exporter": "python",
   "pygments_lexer": "ipython3",
   "version": "3.10.12"
  },
  "orig_nbformat": 4
 },
 "nbformat": 4,
 "nbformat_minor": 2
}
